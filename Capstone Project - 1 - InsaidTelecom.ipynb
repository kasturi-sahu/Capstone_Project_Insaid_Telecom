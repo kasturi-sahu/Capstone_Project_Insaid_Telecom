{
 "cells": [
  {
   "cell_type": "markdown",
   "metadata": {},
   "source": [
    "# Capstone Project - InsaidTelecom"
   ]
  },
  {
   "cell_type": "markdown",
   "metadata": {},
   "source": [
    "# Summarization of Learning"
   ]
  },
  {
   "cell_type": "markdown",
   "metadata": {},
   "source": [
    "## 9 steps of EDA\n",
    "1. Define Problem\n",
    "2. Choose right tools\n",
    "3. Collection of data\n",
    "4. Pre-profile\n",
    "5. Pre processing of data (Clean, remove unnecessary, add relevant data)\n",
    "6. Post-profile\n",
    "7. Ask right Questions\n",
    "8. Conclusion or Summarization\n",
    "9. Actionable Insights (low hanging fruits)\n"
   ]
  },
  {
   "cell_type": "markdown",
   "metadata": {},
   "source": [
    "# Introduction"
   ]
  },
  {
   "cell_type": "markdown",
   "metadata": {},
   "source": [
    "## Problem Statement \n",
    "\n",
    "**InsaidTelecom**, one of the leading telecom players, understands that customizing offering\n",
    "is very important for its business to stay competitive.\n",
    "Currently, InsaidTelecom is seeking to leverage behavioral data from more than 60% of the 50 million mobile devices active daily in India\n",
    "to help its clients better understand and interact with their audiences.\n",
    "\n",
    "In this **consulting assignment**, Insaidians are expected to build a dashboard to understand\n",
    "user's demographic characteristics based on their mobile usage, geolocation, and mobile device properties.\n",
    "Doing so will help millions of developers and brand advertisers around the world pursue\n",
    "data-driven marketing efforts which are relevant to their users and catered to their preferences."
   ]
  },
  {
   "cell_type": "markdown",
   "metadata": {},
   "source": [
    "# Importing Packages"
   ]
  },
  {
   "cell_type": "markdown",
   "metadata": {},
   "source": [
    "## Importing and Installing the packages"
   ]
  },
  {
   "cell_type": "code",
   "execution_count": 5,
   "metadata": {},
   "outputs": [],
   "source": [
    "import numpy as np \n",
    "\n",
    "import pandas as pd\n",
    "pd.set_option('mode.chained_assignment', None)                                    # To suppress pandas warnings.\n",
    "pd.set_option('display.max_colwidth', None)                                       # To display all the data in each column\n",
    "pd.set_option('display.max_columns', None)                                        # To display every column of the dataset in head()\n",
    "pd.set_option('display.precision', 3)                                             # To display values only upto three decimal places.\n",
    "pd.options.display.float_format = '{:.2f}'.format\n",
    "\n",
    "import warnings\n",
    "warnings.filterwarnings('ignore')                                                 # To suppress all the warnings in the notebook."
   ]
  },
  {
   "cell_type": "code",
   "execution_count": 6,
   "metadata": {},
   "outputs": [],
   "source": [
    "import matplotlib.pyplot as plt\n",
    "%matplotlib inline\n",
    "\n",
    "import seaborn as sns\n",
    "sns.set(style='whitegrid', font_scale=1.3, color_codes=True)                      # To apply seaborn styles to the plots.\n",
    "\n",
    "from datetime import datetime, timedelta"
   ]
  },
  {
   "cell_type": "code",
   "execution_count": 7,
   "metadata": {},
   "outputs": [],
   "source": [
    "# To install pandas profiling please run this command.\n",
    "#while re-running the notebook we dont want the pip command, so commenting it out\n",
    "#!pip install pandas-profiling --upgrade\n",
    "#!pip uninstall !pip uninstall pandas_profiling\n",
    "#!pip install pandas_profiling[notebook,html]"
   ]
  },
  {
   "cell_type": "code",
   "execution_count": 8,
   "metadata": {},
   "outputs": [],
   "source": [
    "from pandas_profiling import ProfileReport"
   ]
  },
  {
   "cell_type": "markdown",
   "metadata": {},
   "source": [
    "## Handling warnings"
   ]
  },
  {
   "cell_type": "code",
   "execution_count": 9,
   "metadata": {},
   "outputs": [],
   "source": [
    "warnings.filterwarnings('ignore') # ignore warnings.\n",
    "%config IPCompleter.greedy = True # autocomplete feature.\n",
    "pd.options.display.max_rows = None # set maximum rows that can be displayed in notebook.\n",
    "pd.options.display.max_columns = None # set maximum columns that can be displayed in notebook.\n",
    "pd.options.display.precision = 2 # set the precision of floating point numbers."
   ]
  },
  {
   "cell_type": "markdown",
   "metadata": {},
   "source": [
    "# Loading Data"
   ]
  },
  {
   "cell_type": "markdown",
   "metadata": {},
   "source": [
    "## Description of Data"
   ]
  },
  {
   "cell_type": "markdown",
   "metadata": {},
   "source": [
    "In this assignment, we are going to study the demographics of a user (gender and age) based on their app download and usage behaviors.\n",
    "\n",
    "The Data is collected from mobile apps that use InsaidTelecom services. Full recognition and consent from individual user of those apps have been obtained, and appropriate anonymization have been performed to protect privacy. Due to confidentiality, we won't provide details on how the gender and age data was obtained.\n",
    "\n",
    "The data schema can be represented in the following table:\n",
    "\n",
    "**gender_age_train** - Devices and their respective user gender, age and age_group\n",
    "\n",
    "**phone_brand_device_model** - device ids, brand, and models phone_brand: note that few brands are in Chinese\n",
    "\n",
    "**events_data** - when a user uses mobile on INSAID Telecom network, the event gets logged in this data.\n",
    "\n",
    "Each event has an event id, location (lat/long), and the event corresponds to frequency of mobile usage.\n",
    "**timestamp**: when the user is using the mobile."
   ]
  },
  {
   "cell_type": "code",
   "execution_count": 10,
   "metadata": {},
   "outputs": [
    {
     "data": {
      "text/html": [
       "<div>\n",
       "<style scoped>\n",
       "    .dataframe tbody tr th:only-of-type {\n",
       "        vertical-align: middle;\n",
       "    }\n",
       "\n",
       "    .dataframe tbody tr th {\n",
       "        vertical-align: top;\n",
       "    }\n",
       "\n",
       "    .dataframe thead th {\n",
       "        text-align: right;\n",
       "    }\n",
       "</style>\n",
       "<table border=\"1\" class=\"dataframe\">\n",
       "  <thead>\n",
       "    <tr style=\"text-align: right;\">\n",
       "      <th></th>\n",
       "      <th>event_id</th>\n",
       "      <th>device_id</th>\n",
       "      <th>timestamp</th>\n",
       "      <th>longitude</th>\n",
       "      <th>latitude</th>\n",
       "      <th>city</th>\n",
       "      <th>state</th>\n",
       "    </tr>\n",
       "  </thead>\n",
       "  <tbody>\n",
       "    <tr>\n",
       "      <th>0</th>\n",
       "      <td>2765368</td>\n",
       "      <td>2973347786994914304.00</td>\n",
       "      <td>2016-05-07 22:52:05</td>\n",
       "      <td>77.23</td>\n",
       "      <td>28.73</td>\n",
       "      <td>Delhi</td>\n",
       "      <td>Delhi</td>\n",
       "    </tr>\n",
       "    <tr>\n",
       "      <th>1</th>\n",
       "      <td>2955066</td>\n",
       "      <td>4734221357723754496.00</td>\n",
       "      <td>2016-05-01 20:44:16</td>\n",
       "      <td>88.39</td>\n",
       "      <td>22.66</td>\n",
       "      <td>Calcutta</td>\n",
       "      <td>WestBengal</td>\n",
       "    </tr>\n",
       "    <tr>\n",
       "      <th>2</th>\n",
       "      <td>605968</td>\n",
       "      <td>-3264499652692492800.00</td>\n",
       "      <td>2016-05-02 14:23:04</td>\n",
       "      <td>77.26</td>\n",
       "      <td>28.76</td>\n",
       "      <td>Delhi</td>\n",
       "      <td>Delhi</td>\n",
       "    </tr>\n",
       "    <tr>\n",
       "      <th>3</th>\n",
       "      <td>448114</td>\n",
       "      <td>5731369272434022400.00</td>\n",
       "      <td>2016-05-03 13:21:16</td>\n",
       "      <td>80.34</td>\n",
       "      <td>13.15</td>\n",
       "      <td>Chennai</td>\n",
       "      <td>TamilNadu</td>\n",
       "    </tr>\n",
       "    <tr>\n",
       "      <th>4</th>\n",
       "      <td>665740</td>\n",
       "      <td>338888002570799936.00</td>\n",
       "      <td>2016-05-06 03:51:05</td>\n",
       "      <td>86.00</td>\n",
       "      <td>23.84</td>\n",
       "      <td>Bokaro</td>\n",
       "      <td>Jharkhand</td>\n",
       "    </tr>\n",
       "  </tbody>\n",
       "</table>\n",
       "</div>"
      ],
      "text/plain": [
       "   event_id               device_id            timestamp  longitude  latitude  \\\n",
       "0   2765368  2973347786994914304.00  2016-05-07 22:52:05      77.23     28.73   \n",
       "1   2955066  4734221357723754496.00  2016-05-01 20:44:16      88.39     22.66   \n",
       "2    605968 -3264499652692492800.00  2016-05-02 14:23:04      77.26     28.76   \n",
       "3    448114  5731369272434022400.00  2016-05-03 13:21:16      80.34     13.15   \n",
       "4    665740   338888002570799936.00  2016-05-06 03:51:05      86.00     23.84   \n",
       "\n",
       "       city       state  \n",
       "0     Delhi       Delhi  \n",
       "1  Calcutta  WestBengal  \n",
       "2     Delhi       Delhi  \n",
       "3   Chennai   TamilNadu  \n",
       "4    Bokaro   Jharkhand  "
      ]
     },
     "execution_count": 10,
     "metadata": {},
     "output_type": "execute_result"
    }
   ],
   "source": [
    "df = pd.read_csv(\"C://Users//jeete//OneDrive//Desktop//Kasturi//Capstone Project//events_data.csv\")\n",
    "df.head()"
   ]
  },
  {
   "cell_type": "code",
   "execution_count": 12,
   "metadata": {},
   "outputs": [
    {
     "name": "stdout",
     "output_type": "stream",
     "text": [
      "<class 'pandas.core.frame.DataFrame'>\n",
      "RangeIndex: 3252950 entries, 0 to 3252949\n",
      "Data columns (total 7 columns):\n",
      " #   Column     Dtype  \n",
      "---  ------     -----  \n",
      " 0   event_id   int64  \n",
      " 1   device_id  float64\n",
      " 2   timestamp  object \n",
      " 3   longitude  float64\n",
      " 4   latitude   float64\n",
      " 5   city       object \n",
      " 6   state      object \n",
      "dtypes: float64(3), int64(1), object(3)\n",
      "memory usage: 173.7+ MB\n"
     ]
    }
   ],
   "source": [
    "#to identify null, missing data and the type of Data\n",
    "df.info()"
   ]
  },
  {
   "cell_type": "markdown",
   "metadata": {},
   "source": [
    "<span style='background:orange'>Observation:There are 3 float type data, 1 integer type and 3 object type data"
   ]
  },
  {
   "cell_type": "code",
   "execution_count": 51,
   "metadata": {},
   "outputs": [
    {
     "data": {
      "text/plain": [
       "(3252950, 7)"
      ]
     },
     "execution_count": 51,
     "metadata": {},
     "output_type": "execute_result"
    }
   ],
   "source": [
    "# to find the shape of the data, though seen in the .info() , double checking here\n",
    "df.shape"
   ]
  },
  {
   "cell_type": "markdown",
   "metadata": {},
   "source": [
    "<span style='background:orange'>Observation:As seen above in .info() we have 3252950 rows and 7 columns</span>"
   ]
  },
  {
   "cell_type": "code",
   "execution_count": 13,
   "metadata": {},
   "outputs": [
    {
     "data": {
      "text/plain": [
       "event_id       0\n",
       "device_id    453\n",
       "timestamp      0\n",
       "longitude    423\n",
       "latitude     423\n",
       "city           0\n",
       "state        377\n",
       "dtype: int64"
      ]
     },
     "execution_count": 13,
     "metadata": {},
     "output_type": "execute_result"
    }
   ],
   "source": [
    "# to check for the null values. Already checked in .info(), double checking here\n",
    "df.isnull().sum()"
   ]
  },
  {
   "cell_type": "markdown",
   "metadata": {},
   "source": [
    "<span style='background:orange'> Observation: There are null values in device_id,  longitude, latitude and state column </span>"
   ]
  },
  {
   "cell_type": "code",
   "execution_count": 14,
   "metadata": {},
   "outputs": [
    {
     "data": {
      "text/html": [
       "<div>\n",
       "<style scoped>\n",
       "    .dataframe tbody tr th:only-of-type {\n",
       "        vertical-align: middle;\n",
       "    }\n",
       "\n",
       "    .dataframe tbody tr th {\n",
       "        vertical-align: top;\n",
       "    }\n",
       "\n",
       "    .dataframe thead th {\n",
       "        text-align: right;\n",
       "    }\n",
       "</style>\n",
       "<table border=\"1\" class=\"dataframe\">\n",
       "  <thead>\n",
       "    <tr style=\"text-align: right;\">\n",
       "      <th></th>\n",
       "      <th>event_id</th>\n",
       "      <th>device_id</th>\n",
       "      <th>longitude</th>\n",
       "      <th>latitude</th>\n",
       "    </tr>\n",
       "  </thead>\n",
       "  <tbody>\n",
       "    <tr>\n",
       "      <th>count</th>\n",
       "      <td>3252950.00</td>\n",
       "      <td>3252497.00</td>\n",
       "      <td>3252527.00</td>\n",
       "      <td>3252527.00</td>\n",
       "    </tr>\n",
       "    <tr>\n",
       "      <th>mean</th>\n",
       "      <td>1626475.50</td>\n",
       "      <td>101220009585509024.00</td>\n",
       "      <td>78.16</td>\n",
       "      <td>21.69</td>\n",
       "    </tr>\n",
       "    <tr>\n",
       "      <th>std</th>\n",
       "      <td>939045.92</td>\n",
       "      <td>5316758188197051392.00</td>\n",
       "      <td>4.24</td>\n",
       "      <td>5.79</td>\n",
       "    </tr>\n",
       "    <tr>\n",
       "      <th>min</th>\n",
       "      <td>1.00</td>\n",
       "      <td>-9222956879900150784.00</td>\n",
       "      <td>12.57</td>\n",
       "      <td>8.19</td>\n",
       "    </tr>\n",
       "    <tr>\n",
       "      <th>25%</th>\n",
       "      <td>813238.25</td>\n",
       "      <td>-4540611333857475072.00</td>\n",
       "      <td>75.84</td>\n",
       "      <td>17.80</td>\n",
       "    </tr>\n",
       "    <tr>\n",
       "      <th>50%</th>\n",
       "      <td>1626475.50</td>\n",
       "      <td>172682011159278816.00</td>\n",
       "      <td>77.27</td>\n",
       "      <td>22.16</td>\n",
       "    </tr>\n",
       "    <tr>\n",
       "      <th>75%</th>\n",
       "      <td>2439712.75</td>\n",
       "      <td>4861813234983622656.00</td>\n",
       "      <td>80.32</td>\n",
       "      <td>28.68</td>\n",
       "    </tr>\n",
       "    <tr>\n",
       "      <th>max</th>\n",
       "      <td>3252950.00</td>\n",
       "      <td>9222849349208140800.00</td>\n",
       "      <td>95.46</td>\n",
       "      <td>41.87</td>\n",
       "    </tr>\n",
       "  </tbody>\n",
       "</table>\n",
       "</div>"
      ],
      "text/plain": [
       "        event_id               device_id  longitude   latitude\n",
       "count 3252950.00              3252497.00 3252527.00 3252527.00\n",
       "mean  1626475.50   101220009585509024.00      78.16      21.69\n",
       "std    939045.92  5316758188197051392.00       4.24       5.79\n",
       "min         1.00 -9222956879900150784.00      12.57       8.19\n",
       "25%    813238.25 -4540611333857475072.00      75.84      17.80\n",
       "50%   1626475.50   172682011159278816.00      77.27      22.16\n",
       "75%   2439712.75  4861813234983622656.00      80.32      28.68\n",
       "max   3252950.00  9222849349208140800.00      95.46      41.87"
      ]
     },
     "execution_count": 14,
     "metadata": {},
     "output_type": "execute_result"
    }
   ],
   "source": [
    "#to check the statistical data like count, mean, std, min, max, IQR\n",
    "df.describe()"
   ]
  },
  {
   "cell_type": "markdown",
   "metadata": {},
   "source": [
    "# Loading Data Using SQL"
   ]
  },
  {
   "cell_type": "code",
   "execution_count": 36,
   "metadata": {},
   "outputs": [],
   "source": [
    "# Importing sql connector\n",
    "import mysql.connector"
   ]
  },
  {
   "cell_type": "code",
   "execution_count": 37,
   "metadata": {},
   "outputs": [
    {
     "name": "stdout",
     "output_type": "stream",
     "text": [
      "Requirement already satisfied: mysql-connector in c:\\users\\jeete\\anaconda3\\lib\\site-packages (2.2.9)\n"
     ]
    }
   ],
   "source": [
    "# Installing mysql-connector to connect to database\n",
    "\n",
    "!pip install mysql-connector"
   ]
  },
  {
   "cell_type": "code",
   "execution_count": 38,
   "metadata": {},
   "outputs": [],
   "source": [
    "# Connecting to mysql database\n",
    "\n",
    "mydb = mysql.connector.connect(host='cpanel.insaid.co', user='student', passwd='student', \n",
    "                                                          database='Capstone1')"
   ]
  },
  {
   "cell_type": "code",
   "execution_count": 39,
   "metadata": {},
   "outputs": [
    {
     "data": {
      "text/plain": [
       "<mysql.connector.connection.MySQLConnection at 0x22781e1dd60>"
      ]
     },
     "execution_count": 39,
     "metadata": {},
     "output_type": "execute_result"
    }
   ],
   "source": [
    "mydb"
   ]
  },
  {
   "cell_type": "code",
   "execution_count": 40,
   "metadata": {},
   "outputs": [],
   "source": [
    "# Creating the cursor to point each instance of the database\n",
    "\n",
    "my_cursor = mydb.cursor()"
   ]
  },
  {
   "cell_type": "code",
   "execution_count": 41,
   "metadata": {},
   "outputs": [],
   "source": [
    "# Fetching all the data from gender_age_train table using cursor object\n",
    "\n",
    "my_cursor.execute('select * from gender_age_train')"
   ]
  },
  {
   "cell_type": "code",
   "execution_count": 42,
   "metadata": {},
   "outputs": [],
   "source": [
    "# Store the data available in cursor object in gender_age_train variable\n",
    "\n",
    "gender_age_train = my_cursor.fetchall()"
   ]
  },
  {
   "cell_type": "code",
   "execution_count": 43,
   "metadata": {},
   "outputs": [],
   "source": [
    "\n",
    "# Converting gender_age_train variable into a Dataframe\n",
    "\n",
    "gender_age_train = pd.DataFrame(gender_age_train)"
   ]
  },
  {
   "cell_type": "code",
   "execution_count": 44,
   "metadata": {},
   "outputs": [
    {
     "data": {
      "text/html": [
       "<div>\n",
       "<style scoped>\n",
       "    .dataframe tbody tr th:only-of-type {\n",
       "        vertical-align: middle;\n",
       "    }\n",
       "\n",
       "    .dataframe tbody tr th {\n",
       "        vertical-align: top;\n",
       "    }\n",
       "\n",
       "    .dataframe thead th {\n",
       "        text-align: right;\n",
       "    }\n",
       "</style>\n",
       "<table border=\"1\" class=\"dataframe\">\n",
       "  <thead>\n",
       "    <tr style=\"text-align: right;\">\n",
       "      <th></th>\n",
       "      <th>0</th>\n",
       "      <th>1</th>\n",
       "      <th>2</th>\n",
       "      <th>3</th>\n",
       "    </tr>\n",
       "  </thead>\n",
       "  <tbody>\n",
       "    <tr>\n",
       "      <th>0</th>\n",
       "      <td>-8076087639492063270</td>\n",
       "      <td>M</td>\n",
       "      <td>35</td>\n",
       "      <td>M32-38</td>\n",
       "    </tr>\n",
       "    <tr>\n",
       "      <th>1</th>\n",
       "      <td>-2897161552818060146</td>\n",
       "      <td>M</td>\n",
       "      <td>35</td>\n",
       "      <td>M32-38</td>\n",
       "    </tr>\n",
       "    <tr>\n",
       "      <th>2</th>\n",
       "      <td>-8260683887967679142</td>\n",
       "      <td>M</td>\n",
       "      <td>35</td>\n",
       "      <td>M32-38</td>\n",
       "    </tr>\n",
       "    <tr>\n",
       "      <th>3</th>\n",
       "      <td>-4938849341048082022</td>\n",
       "      <td>M</td>\n",
       "      <td>30</td>\n",
       "      <td>M29-31</td>\n",
       "    </tr>\n",
       "    <tr>\n",
       "      <th>4</th>\n",
       "      <td>245133531816851882</td>\n",
       "      <td>M</td>\n",
       "      <td>30</td>\n",
       "      <td>M29-31</td>\n",
       "    </tr>\n",
       "  </tbody>\n",
       "</table>\n",
       "</div>"
      ],
      "text/plain": [
       "                     0  1   2       3\n",
       "0 -8076087639492063270  M  35  M32-38\n",
       "1 -2897161552818060146  M  35  M32-38\n",
       "2 -8260683887967679142  M  35  M32-38\n",
       "3 -4938849341048082022  M  30  M29-31\n",
       "4   245133531816851882  M  30  M29-31"
      ]
     },
     "execution_count": 44,
     "metadata": {},
     "output_type": "execute_result"
    }
   ],
   "source": [
    "gender_age_train.head()"
   ]
  },
  {
   "cell_type": "code",
   "execution_count": 45,
   "metadata": {},
   "outputs": [
    {
     "name": "stdout",
     "output_type": "stream",
     "text": [
      "<class 'pandas.core.frame.DataFrame'>\n",
      "RangeIndex: 74645 entries, 0 to 74644\n",
      "Data columns (total 4 columns):\n",
      " #   Column  Non-Null Count  Dtype \n",
      "---  ------  --------------  ----- \n",
      " 0   0       74645 non-null  int64 \n",
      " 1   1       74645 non-null  object\n",
      " 2   2       74645 non-null  int64 \n",
      " 3   3       74645 non-null  object\n",
      "dtypes: int64(2), object(2)\n",
      "memory usage: 2.3+ MB\n"
     ]
    }
   ],
   "source": [
    "gender_age_train.info()  # There is no missing information in gender_age_train dataframe"
   ]
  },
  {
   "cell_type": "code",
   "execution_count": 46,
   "metadata": {},
   "outputs": [],
   "source": [
    "# Fetching all the data from phone_brand_device_model table using cursor object\n",
    "\n",
    "my_cursor.execute('select * from phone_brand_device_model')"
   ]
  },
  {
   "cell_type": "code",
   "execution_count": 47,
   "metadata": {},
   "outputs": [],
   "source": [
    "# Store the data available in cursor object in phone_brand_device_model variable\n",
    "\n",
    "phone_brand_device_model = my_cursor.fetchall()"
   ]
  },
  {
   "cell_type": "code",
   "execution_count": 48,
   "metadata": {},
   "outputs": [],
   "source": [
    "# Converting phone_brand_device_model variable into a Dataframe\n",
    "\n",
    "phone_brand_device_model = pd.DataFrame(phone_brand_device_model)"
   ]
  },
  {
   "cell_type": "code",
   "execution_count": 49,
   "metadata": {},
   "outputs": [
    {
     "data": {
      "text/html": [
       "<div>\n",
       "<style scoped>\n",
       "    .dataframe tbody tr th:only-of-type {\n",
       "        vertical-align: middle;\n",
       "    }\n",
       "\n",
       "    .dataframe tbody tr th {\n",
       "        vertical-align: top;\n",
       "    }\n",
       "\n",
       "    .dataframe thead th {\n",
       "        text-align: right;\n",
       "    }\n",
       "</style>\n",
       "<table border=\"1\" class=\"dataframe\">\n",
       "  <thead>\n",
       "    <tr style=\"text-align: right;\">\n",
       "      <th></th>\n",
       "      <th>0</th>\n",
       "      <th>1</th>\n",
       "      <th>2</th>\n",
       "    </tr>\n",
       "  </thead>\n",
       "  <tbody>\n",
       "    <tr>\n",
       "      <th>0</th>\n",
       "      <td>1877775838486905855</td>\n",
       "      <td>vivo</td>\n",
       "      <td>Y13</td>\n",
       "    </tr>\n",
       "    <tr>\n",
       "      <th>1</th>\n",
       "      <td>-3766087376657242966</td>\n",
       "      <td>小米</td>\n",
       "      <td>V183</td>\n",
       "    </tr>\n",
       "    <tr>\n",
       "      <th>2</th>\n",
       "      <td>-6238937574958215831</td>\n",
       "      <td>OPPO</td>\n",
       "      <td>R7s</td>\n",
       "    </tr>\n",
       "    <tr>\n",
       "      <th>3</th>\n",
       "      <td>8973197758510677470</td>\n",
       "      <td>三星</td>\n",
       "      <td>A368t</td>\n",
       "    </tr>\n",
       "    <tr>\n",
       "      <th>4</th>\n",
       "      <td>-2015528097870762664</td>\n",
       "      <td>小米</td>\n",
       "      <td>红米Note2</td>\n",
       "    </tr>\n",
       "  </tbody>\n",
       "</table>\n",
       "</div>"
      ],
      "text/plain": [
       "                     0     1        2\n",
       "0  1877775838486905855  vivo      Y13\n",
       "1 -3766087376657242966    小米     V183\n",
       "2 -6238937574958215831  OPPO      R7s\n",
       "3  8973197758510677470    三星    A368t\n",
       "4 -2015528097870762664    小米  红米Note2"
      ]
     },
     "execution_count": 49,
     "metadata": {},
     "output_type": "execute_result"
    }
   ],
   "source": [
    "\n",
    "phone_brand_device_model.head()"
   ]
  },
  {
   "cell_type": "code",
   "execution_count": 50,
   "metadata": {},
   "outputs": [
    {
     "name": "stdout",
     "output_type": "stream",
     "text": [
      "<class 'pandas.core.frame.DataFrame'>\n",
      "RangeIndex: 87726 entries, 0 to 87725\n",
      "Data columns (total 3 columns):\n",
      " #   Column  Non-Null Count  Dtype \n",
      "---  ------  --------------  ----- \n",
      " 0   0       87726 non-null  int64 \n",
      " 1   1       87726 non-null  object\n",
      " 2   2       87726 non-null  object\n",
      "dtypes: int64(1), object(2)\n",
      "memory usage: 2.0+ MB\n"
     ]
    }
   ],
   "source": [
    "phone_brand_device_model.info()  # There is no missing information in phone_brand_device_model"
   ]
  },
  {
   "cell_type": "code",
   "execution_count": null,
   "metadata": {},
   "outputs": [],
   "source": []
  },
  {
   "cell_type": "code",
   "execution_count": null,
   "metadata": {},
   "outputs": [],
   "source": []
  }
 ],
 "metadata": {
  "kernelspec": {
   "display_name": "Python 3",
   "language": "python",
   "name": "python3"
  },
  "language_info": {
   "codemirror_mode": {
    "name": "ipython",
    "version": 3
   },
   "file_extension": ".py",
   "mimetype": "text/x-python",
   "name": "python",
   "nbconvert_exporter": "python",
   "pygments_lexer": "ipython3",
   "version": "3.8.5"
  },
  "toc": {
   "base_numbering": 1,
   "nav_menu": {},
   "number_sections": true,
   "sideBar": true,
   "skip_h1_title": false,
   "title_cell": "Table of Contents",
   "title_sidebar": "Contents",
   "toc_cell": false,
   "toc_position": {},
   "toc_section_display": true,
   "toc_window_display": true
  }
 },
 "nbformat": 4,
 "nbformat_minor": 4
}
